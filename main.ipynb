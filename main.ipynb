{
 "cells": [
  {
   "cell_type": "code",
   "execution_count": 1,
   "metadata": {},
   "outputs": [],
   "source": [
    "from src import mnist_loader \n",
    "training_data, validation_data, test_data = mnist_loader.load_data_wrapper(\"data/mnist.pkl.gz\")"
   ]
  },
  {
   "cell_type": "code",
   "execution_count": 2,
   "metadata": {},
   "outputs": [
    {
     "name": "stdout",
     "output_type": "stream",
     "text": [
      "Epoch 0 training complete\n",
      "Accuracy on evaluation data: 9031 / 10000\n",
      "Epoch 1 training complete\n",
      "Accuracy on evaluation data: 9234 / 10000\n",
      "Epoch 2 training complete\n",
      "Accuracy on evaluation data: 9285 / 10000\n",
      "Epoch 3 training complete\n",
      "Accuracy on evaluation data: 9359 / 10000\n",
      "Epoch 4 training complete\n",
      "Accuracy on evaluation data: 9340 / 10000\n",
      "Epoch 5 training complete\n",
      "Accuracy on evaluation data: 9336 / 10000\n",
      "Epoch 6 training complete\n",
      "Accuracy on evaluation data: 9366 / 10000\n",
      "Epoch 7 training complete\n",
      "Accuracy on evaluation data: 9383 / 10000\n",
      "Epoch 8 training complete\n",
      "Accuracy on evaluation data: 9423 / 10000\n",
      "Epoch 9 training complete\n",
      "Accuracy on evaluation data: 9401 / 10000\n",
      "Epoch 10 training complete\n",
      "Accuracy on evaluation data: 9428 / 10000\n",
      "Epoch 11 training complete\n",
      "Accuracy on evaluation data: 9421 / 10000\n",
      "Epoch 12 training complete\n"
     ]
    },
    {
     "ename": "KeyboardInterrupt",
     "evalue": "",
     "output_type": "error",
     "traceback": [
      "\u001b[0;31m---------------------------------------------------------------------------\u001b[0m",
      "\u001b[0;31mKeyboardInterrupt\u001b[0m                         Traceback (most recent call last)",
      "Cell \u001b[0;32mIn[2], line 4\u001b[0m\n\u001b[1;32m      2\u001b[0m net \u001b[38;5;241m=\u001b[39m network2\u001b[38;5;241m.\u001b[39mNetwork([\u001b[38;5;241m784\u001b[39m, \u001b[38;5;241m30\u001b[39m, \u001b[38;5;241m10\u001b[39m], cost\u001b[38;5;241m=\u001b[39mnetwork2\u001b[38;5;241m.\u001b[39mCrossEntropyCost)\n\u001b[1;32m      3\u001b[0m net\u001b[38;5;241m.\u001b[39mlarge_weight_initializer()\n\u001b[0;32m----> 4\u001b[0m \u001b[43mnet\u001b[49m\u001b[38;5;241;43m.\u001b[39;49m\u001b[43mSGD\u001b[49m\u001b[43m(\u001b[49m\u001b[43mtraining_data\u001b[49m\u001b[43m,\u001b[49m\u001b[43m \u001b[49m\u001b[38;5;241;43m30\u001b[39;49m\u001b[43m,\u001b[49m\u001b[43m \u001b[49m\u001b[38;5;241;43m10\u001b[39;49m\u001b[43m,\u001b[49m\u001b[43m \u001b[49m\u001b[38;5;241;43m0.5\u001b[39;49m\u001b[43m,\u001b[49m\u001b[43m \u001b[49m\u001b[43mevaluation_data\u001b[49m\u001b[38;5;241;43m=\u001b[39;49m\u001b[43mtest_data\u001b[49m\u001b[43m,\u001b[49m\u001b[43mmonitor_evaluation_accuracy\u001b[49m\u001b[38;5;241;43m=\u001b[39;49m\u001b[38;5;28;43;01mTrue\u001b[39;49;00m\u001b[43m)\u001b[49m\n",
      "File \u001b[0;32m~/Documents/GitHub/neural-networks-and-deep-learning/src/network2.py:185\u001b[0m, in \u001b[0;36mNetwork.SGD\u001b[0;34m(self, training_data, epochs, mini_batch_size, eta, lmbda, evaluation_data, monitor_evaluation_cost, monitor_evaluation_accuracy, monitor_training_cost, monitor_training_accuracy)\u001b[0m\n\u001b[1;32m    182\u001b[0m         accuracy \u001b[38;5;241m=\u001b[39m \u001b[38;5;28mself\u001b[39m\u001b[38;5;241m.\u001b[39maccuracy(evaluation_data)\n\u001b[1;32m    183\u001b[0m         evaluation_accuracy\u001b[38;5;241m.\u001b[39mappend(accuracy)\n\u001b[1;32m    184\u001b[0m         \u001b[38;5;28mprint\u001b[39m(\u001b[38;5;124m\"\u001b[39m\u001b[38;5;124mAccuracy on evaluation data: \u001b[39m\u001b[38;5;132;01m{}\u001b[39;00m\u001b[38;5;124m / \u001b[39m\u001b[38;5;132;01m{}\u001b[39;00m\u001b[38;5;124m\"\u001b[39m\u001b[38;5;241m.\u001b[39mformat(\n\u001b[0;32m--> 185\u001b[0m             \u001b[38;5;28;43mself\u001b[39;49m\u001b[38;5;241;43m.\u001b[39;49m\u001b[43maccuracy\u001b[49m\u001b[43m(\u001b[49m\u001b[43mevaluation_data\u001b[49m\u001b[43m)\u001b[49m, n_data))\n\u001b[1;32m    186\u001b[0m     \u001b[38;5;28mprint\u001b[39m\n\u001b[1;32m    187\u001b[0m \u001b[38;5;28;01mreturn\u001b[39;00m evaluation_cost, evaluation_accuracy, \\\n\u001b[1;32m    188\u001b[0m     training_cost, training_accuracy\n",
      "File \u001b[0;32m~/Documents/GitHub/neural-networks-and-deep-learning/src/network2.py:270\u001b[0m, in \u001b[0;36mNetwork.accuracy\u001b[0;34m(self, data, convert)\u001b[0m\n\u001b[1;32m    267\u001b[0m     results \u001b[38;5;241m=\u001b[39m [(np\u001b[38;5;241m.\u001b[39margmax(\u001b[38;5;28mself\u001b[39m\u001b[38;5;241m.\u001b[39mfeedforward(x)), np\u001b[38;5;241m.\u001b[39margmax(y))\n\u001b[1;32m    268\u001b[0m                \u001b[38;5;28;01mfor\u001b[39;00m (x, y) \u001b[38;5;129;01min\u001b[39;00m data]\n\u001b[1;32m    269\u001b[0m \u001b[38;5;28;01melse\u001b[39;00m:\n\u001b[0;32m--> 270\u001b[0m     results \u001b[38;5;241m=\u001b[39m [(np\u001b[38;5;241m.\u001b[39margmax(\u001b[38;5;28;43mself\u001b[39;49m\u001b[38;5;241;43m.\u001b[39;49m\u001b[43mfeedforward\u001b[49m\u001b[43m(\u001b[49m\u001b[43mx\u001b[49m\u001b[43m)\u001b[49m), y)\n\u001b[1;32m    271\u001b[0m                 \u001b[38;5;28;01mfor\u001b[39;00m (x, y) \u001b[38;5;129;01min\u001b[39;00m data]\n\u001b[1;32m    272\u001b[0m \u001b[38;5;28;01mreturn\u001b[39;00m \u001b[38;5;28msum\u001b[39m(\u001b[38;5;28mint\u001b[39m(x \u001b[38;5;241m==\u001b[39m y) \u001b[38;5;28;01mfor\u001b[39;00m (x, y) \u001b[38;5;129;01min\u001b[39;00m results)\n",
      "File \u001b[0;32m~/Documents/GitHub/neural-networks-and-deep-learning/src/network2.py:126\u001b[0m, in \u001b[0;36mNetwork.feedforward\u001b[0;34m(self, a)\u001b[0m\n\u001b[1;32m    124\u001b[0m \u001b[38;5;250m\u001b[39m\u001b[38;5;124;03m\"\"\"Return the output of the network if ``a`` is input.\"\"\"\u001b[39;00m\n\u001b[1;32m    125\u001b[0m \u001b[38;5;28;01mfor\u001b[39;00m b, w \u001b[38;5;129;01min\u001b[39;00m \u001b[38;5;28mzip\u001b[39m(\u001b[38;5;28mself\u001b[39m\u001b[38;5;241m.\u001b[39mbiases, \u001b[38;5;28mself\u001b[39m\u001b[38;5;241m.\u001b[39mweights):\n\u001b[0;32m--> 126\u001b[0m     a \u001b[38;5;241m=\u001b[39m sigmoid(\u001b[43mnp\u001b[49m\u001b[38;5;241;43m.\u001b[39;49m\u001b[43mdot\u001b[49m\u001b[43m(\u001b[49m\u001b[43mw\u001b[49m\u001b[43m,\u001b[49m\u001b[43m \u001b[49m\u001b[43ma\u001b[49m\u001b[43m)\u001b[49m\u001b[38;5;241m+\u001b[39mb)\n\u001b[1;32m    127\u001b[0m \u001b[38;5;28;01mreturn\u001b[39;00m a\n",
      "\u001b[0;31mKeyboardInterrupt\u001b[0m: "
     ]
    }
   ],
   "source": [
    "from src import network2\n",
    "net = network2.Network([784, 30, 10], cost=network2.CrossEntropyCost)\n",
    "net.large_weight_initializer()\n",
    "net.SGD(training_data, 30, 10, 0.5, evaluation_data=test_data,monitor_evaluation_accuracy=True)\n"
   ]
  },
  {
   "cell_type": "code",
   "execution_count": null,
   "metadata": {},
   "outputs": [],
   "source": []
  }
 ],
 "metadata": {
  "kernelspec": {
   "display_name": "Python (global)",
   "language": "python",
   "name": "global"
  },
  "language_info": {
   "codemirror_mode": {
    "name": "ipython",
    "version": 3
   },
   "file_extension": ".py",
   "mimetype": "text/x-python",
   "name": "python",
   "nbconvert_exporter": "python",
   "pygments_lexer": "ipython3",
   "version": "3.12.3"
  }
 },
 "nbformat": 4,
 "nbformat_minor": 2
}
